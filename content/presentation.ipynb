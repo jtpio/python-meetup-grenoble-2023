{
 "cells": [
  {
   "cell_type": "markdown",
   "metadata": {},
   "source": [
    "<br><br><br><br><br><br><br><br><br><br><br><br><br><br><br><br><br><br><br><br><br><br><br><br><br><br><br><br><br><br><br><br><br><br><br><br>"
   ]
  },
  {
   "cell_type": "markdown",
   "metadata": {
    "tags": []
   },
   "source": [
    "<p style=\"text-align: center\">\n",
    "    <img width=\"440\" src=\"https://jupyter.org/assets/homepage/main-logo.svg\">\n",
    "    <img width=\"512\" src=\"https://user-images.githubusercontent.com/591645/138829924-ea536fd4-2352-4214-8691-a80cd87cef2c.png\">\n",
    "</p>\n",
    "<h2 style=\"text-align: center\">Créer des sites web Jupyter interactifs avec JupyterLite 💡 🐍</h2>\n",
    "<h2 style=\"text-align: center\">Python Meetup Grenoble - 2023-03-28</h2>\n",
    "\n",
    "<h4 style=\"text-align: center\">Jeremy Tuloup</h4>"
   ]
  },
  {
   "cell_type": "markdown",
   "metadata": {},
   "source": [
    "<br><br><br><br><br><br><br><br><br><br><br><br><br><br><br><br><br><br><br><br><br><br><br><br><br><br><br><br><br><br><br><br><br><br><br><br>"
   ]
  },
  {
   "cell_type": "markdown",
   "metadata": {},
   "source": [
    "# 🧑‍🚀 Technical Director at QuantStack\n",
    "\n",
    "# 🟠 Core Jupyter Developer\n",
    "\n",
    "<p style=\"display: flex; align-items: center; padding: 10px\">\n",
    "  <img style=\"margin-right: 20px\" width=\"256\" src=\"https://jupyter.org/assets/homepage/main-logo.svg\">\n",
    "  <img src=\"https://quantstack.net/img/logo.svg\">\n",
    "</p>\n"
   ]
  },
  {
   "cell_type": "markdown",
   "metadata": {},
   "source": [
    "<br><br><br><br><br><br><br><br><br><br><br><br><br><br><br><br><br><br><br><br><br><br><br><br><br><br><br><br><br><br><br><br><br><br><br><br>"
   ]
  },
  {
   "cell_type": "markdown",
   "metadata": {},
   "source": [
    "# Interactive Computing\n",
    "\n",
    "- Compose\n",
    "- Submit\n",
    "- Run\n",
    "- Output\n",
    "- View\n",
    "- Repeat\n",
    "\n",
    "## Jupyter: Open Standards for Interactive Computing\n",
    "\n",
    "https://jupyter.org\n",
    "\n",
    "> Project Jupyter promotes open standards that third-party developers can leverage to build customized applications. Think HTML and CSS for interactive computing on the web."
   ]
  },
  {
   "cell_type": "markdown",
   "metadata": {},
   "source": [
    "<br><br><br><br><br><br><br><br><br><br><br><br><br><br><br><br><br><br><br><br><br><br><br><br><br><br><br><br><br><br><br><br><br><br><br><br>"
   ]
  },
  {
   "cell_type": "markdown",
   "metadata": {},
   "source": [
    "# IPython: the Terminal as a UI\n",
    "\n",
    "- The terminal is a user interface!\n",
    "- Challenges:\n",
    "  - **No narrative**\n",
    "  - **No memory**\n",
    "  - **No reproducibility and communication**\n",
    " \n",
    "![ipython](https://ipython.readthedocs.io/en/stable/_images/ipython-6-screenshot.png)\n",
    "\n",
    "## REPL: Read Eval Print Loop"
   ]
  },
  {
   "cell_type": "markdown",
   "metadata": {},
   "source": [
    "<br><br><br><br><br><br><br><br><br><br><br><br><br><br><br><br><br><br><br><br><br><br><br><br><br><br><br><br><br><br><br><br><br><br><br><br>"
   ]
  },
  {
   "cell_type": "markdown",
   "metadata": {},
   "source": [
    "# Why is the Jupyter Notebook useful?\n",
    "\n",
    "- Maintain full interactive computing workflow\n",
    "- Adds:\n",
    "  - **narrative**\n",
    "  - **memory**\n",
    "  - **repoducibility**\n",
    "  - **communication**"
   ]
  },
  {
   "cell_type": "markdown",
   "metadata": {},
   "source": [
    "<br><br><br><br><br><br><br><br><br><br><br><br><br><br><br><br><br><br><br><br><br><br><br><br><br><br><br><br><br><br><br><br><br><br><br><br>"
   ]
  },
  {
   "cell_type": "markdown",
   "metadata": {},
   "source": [
    "# IPython\n",
    "\n",
    "![image](https://user-images.githubusercontent.com/591645/228060329-13368066-b1e9-4812-9662-70919d833a77.png)"
   ]
  },
  {
   "cell_type": "markdown",
   "metadata": {},
   "source": [
    "<br><br><br><br><br><br><br><br><br><br><br><br><br><br><br><br><br><br><br><br><br><br><br><br><br><br><br><br><br><br><br><br><br><br><br><br>"
   ]
  },
  {
   "cell_type": "markdown",
   "metadata": {},
   "source": [
    "# Jupyter Notebook\n",
    "\n",
    "- Millions of users\n",
    "- Millions of notebooks on GitHub\n",
    "\n",
    "![classic notebook](https://user-images.githubusercontent.com/591645/228060783-cbc9da00-8bb7-44b8-be5f-873c2ab21585.png)"
   ]
  },
  {
   "cell_type": "markdown",
   "metadata": {},
   "source": [
    "<br><br><br><br><br><br><br><br><br><br><br><br><br><br><br><br><br><br><br><br><br><br><br><br><br><br><br><br><br><br><br><br><br><br><br><br>"
   ]
  },
  {
   "cell_type": "markdown",
   "metadata": {},
   "source": [
    "# Kernels\n",
    "\n",
    "https://github.com/jupyter/jupyter/wiki/Jupyter-kernels\n",
    "\n",
    "![image](https://user-images.githubusercontent.com/591645/227998011-2eb736f1-4f93-4f73-8dd2-f6f69fec4685.png)"
   ]
  },
  {
   "cell_type": "markdown",
   "metadata": {},
   "source": [
    "<br><br><br><br><br><br><br><br><br><br><br><br><br><br><br><br><br><br><br><br><br><br><br><br><br><br><br><br><br><br><br><br><br><br><br><br>"
   ]
  },
  {
   "cell_type": "markdown",
   "metadata": {},
   "source": [
    "# Navigating the Jupyter Landscape\n",
    "\n",
    "https://docs.jupyter.org/en/latest/projects/architecture/content-architecture.html#projects-overview\n",
    "\n",
    "![overview](https://user-images.githubusercontent.com/591645/227993711-a598b63e-3c78-4d41-a6f3-fad7f9717eb6.png)"
   ]
  },
  {
   "cell_type": "markdown",
   "metadata": {},
   "source": [
    "<br><br><br><br><br><br><br><br><br><br><br><br><br><br><br><br><br><br><br><br><br><br><br><br><br><br><br><br><br><br><br><br><br><br><br><br>"
   ]
  },
  {
   "cell_type": "markdown",
   "metadata": {},
   "source": [
    "# The Jupyter Protocol\n",
    "\n",
    "## Messaging in Jupyter: https://jupyter-client.readthedocs.io/en/stable/messaging.html\n",
    "\n",
    "![archi](https://xeus.readthedocs.io/en/latest/_images/jupyter_archi.svg)"
   ]
  },
  {
   "cell_type": "markdown",
   "metadata": {},
   "source": [
    "<button data-commandlinker-command=\"kernelspy:new\">Kernel Spy</button>"
   ]
  },
  {
   "cell_type": "markdown",
   "metadata": {},
   "source": [
    "<br><br><br><br><br><br><br><br><br><br><br><br><br><br><br><br><br><br><br><br><br><br><br><br><br><br><br><br><br><br><br><br><br><br><br><br>"
   ]
  },
  {
   "cell_type": "markdown",
   "metadata": {},
   "source": [
    "# The Jupyter Notebook Format\n",
    "\n",
    "https://nbformat.readthedocs.io/en/latest/\n",
    "\n",
    "![image](https://user-images.githubusercontent.com/591645/228062496-bdb1628d-4c2c-48ca-9a1c-8e0592143483.png)"
   ]
  },
  {
   "cell_type": "markdown",
   "metadata": {},
   "source": [
    "<br><br><br><br><br><br><br><br><br><br><br><br><br><br><br><br><br><br><br><br><br><br><br><br><br><br><br><br><br><br><br><br><br><br><br><br>"
   ]
  },
  {
   "cell_type": "markdown",
   "metadata": {},
   "source": [
    "# Reusable libraries\n",
    "\n",
    "- nbclient: execute notebooks\n",
    "- nbconvert: convert notebooks to PDF, HTML and more\n",
    "- `@jupyterlab/services`: client for managing kernels, contents and other Jupyter Server resources\n",
    "- and more"
   ]
  },
  {
   "cell_type": "markdown",
   "metadata": {},
   "source": [
    "<br><br><br><br><br><br><br><br><br><br><br><br><br><br><br><br><br><br><br><br><br><br><br><br><br><br><br><br><br><br><br><br><br><br><br><br>"
   ]
  },
  {
   "cell_type": "markdown",
   "metadata": {},
   "source": [
    "# Jupyter Frontends\n",
    "\n",
    "- You can build your own Jupyter Frontend\n",
    "- The Jupyter Protocol and Notebook Format still **at the core**\n",
    "- **Interoperability**, **Standards**\n",
    "\n",
    "## Open Source frontends\n",
    "\n",
    "- JupyterLab\n",
    "- Jupyter Notebook (version 7 built with JupyterLab components)\n",
    "- nteract\n",
    "- VS Code\n",
    "\n",
    "## Proprietary\n",
    "\n",
    "- Jetbrains Datalore\n",
    "- Google Colab\n",
    "- Deepnote"
   ]
  },
  {
   "cell_type": "markdown",
   "metadata": {},
   "source": [
    "<br><br><br><br><br><br><br><br><br><br><br><br><br><br><br><br><br><br><br><br><br><br><br><br><br><br><br><br><br><br><br><br><br><br><br><br>"
   ]
  },
  {
   "cell_type": "markdown",
   "metadata": {},
   "source": [
    "# Jupyter Widgets"
   ]
  },
  {
   "cell_type": "code",
   "execution_count": null,
   "metadata": {},
   "outputs": [],
   "source": [
    "from ipywidgets import IntSlider\n",
    "\n",
    "slider = IntSlider()\n",
    "slider"
   ]
  },
  {
   "cell_type": "code",
   "execution_count": null,
   "metadata": {},
   "outputs": [],
   "source": [
    "slider"
   ]
  },
  {
   "cell_type": "code",
   "execution_count": null,
   "metadata": {},
   "outputs": [],
   "source": [
    "slider.value"
   ]
  },
  {
   "cell_type": "code",
   "execution_count": null,
   "metadata": {},
   "outputs": [],
   "source": [
    "from ipywidgets import IntText, link\n",
    "text = IntText()"
   ]
  },
  {
   "cell_type": "code",
   "execution_count": null,
   "metadata": {},
   "outputs": [],
   "source": [
    "text"
   ]
  },
  {
   "cell_type": "code",
   "execution_count": null,
   "metadata": {},
   "outputs": [],
   "source": [
    "link((slider, 'value'), (text, 'value'));"
   ]
  },
  {
   "cell_type": "code",
   "execution_count": null,
   "metadata": {},
   "outputs": [],
   "source": [
    "from bqplot import *\n",
    "\n",
    "import numpy as np\n",
    "import pandas as pd\n",
    "\n",
    "np.random.seed(0)\n",
    "\n",
    "n = 100\n",
    "\n",
    "x = list(range(n))\n",
    "y = np.cumsum(np.random.randn(n)) + 100.\n",
    "\n",
    "sc_x = LinearScale()\n",
    "sc_y = LinearScale()\n",
    "\n",
    "lines = Lines(\n",
    "    x=x, y=y,\n",
    "    scales={'x': sc_x, 'y': sc_y}\n",
    ")\n",
    "ax_x = Axis(scale=sc_x, label='Index')\n",
    "ax_y = Axis(scale=sc_y, orientation='vertical', label='lines')\n",
    "\n",
    "Figure(marks=[lines], axes=[ax_x, ax_y], title='Lines')\n"
   ]
  },
  {
   "cell_type": "code",
   "execution_count": null,
   "metadata": {},
   "outputs": [],
   "source": [
    "lines.colors = ['green']"
   ]
  },
  {
   "cell_type": "code",
   "execution_count": null,
   "metadata": {},
   "outputs": [],
   "source": [
    "lines.fill = 'bottom'"
   ]
  },
  {
   "cell_type": "code",
   "execution_count": null,
   "metadata": {},
   "outputs": [],
   "source": [
    "lines.marker = 'circle'"
   ]
  },
  {
   "cell_type": "code",
   "execution_count": null,
   "metadata": {},
   "outputs": [],
   "source": [
    "n = 100\n",
    "\n",
    "x = list(range(n))\n",
    "y = np.cumsum(np.random.randn(n))\n",
    "\n",
    "sc_x = LinearScale()\n",
    "sc_y = LinearScale()\n",
    "\n",
    "bars = Bars(\n",
    "    x=x, y=y,\n",
    "    scales={'x': sc_x, 'y': sc_y}\n",
    ")\n",
    "ax_x = Axis(scale=sc_x, label='Index')\n",
    "ax_y = Axis(scale=sc_y, orientation='vertical', label='bars')\n",
    "\n",
    "Figure(marks=[bars], axes=[ax_x, ax_y], title='Bars', animation_duration=1000)"
   ]
  },
  {
   "cell_type": "code",
   "execution_count": null,
   "metadata": {},
   "outputs": [],
   "source": [
    "bars.y = np.cumsum(np.random.randn(n))"
   ]
  },
  {
   "cell_type": "markdown",
   "metadata": {},
   "source": [
    "<br><br><br><br><br><br><br><br><br><br><br><br><br><br><br><br><br><br><br><br><br><br><br><br><br><br><br><br><br><br><br><br><br><br><br><br>"
   ]
  },
  {
   "cell_type": "markdown",
   "metadata": {},
   "source": [
    "# JupyterHub\n",
    "\n",
    "- Multi-users Jupyter\n",
    "- Each user has a server\n",
    "\n",
    "![image](https://user-images.githubusercontent.com/591645/228173440-33d939f1-f03f-4b0f-8b12-2011060a40a3.png)"
   ]
  },
  {
   "cell_type": "markdown",
   "metadata": {},
   "source": [
    "<br><br><br><br><br><br><br><br><br><br><br><br><br><br><br><br><br><br><br><br><br><br><br><br><br><br><br><br><br><br><br><br><br><br><br><br>"
   ]
  },
  {
   "cell_type": "markdown",
   "metadata": {},
   "source": [
    "# Voilà\n",
    "\n",
    "[![Binder](https://mybinder.org/badge_logo.svg)](https://mybinder.org/v2/gist/jtpio/6eb7c8cf9d27e91dd7097ad16ab4d140/master?urlpath=/lab/tree/basics.ipynb)\n",
    "\n",
    "## Turn Jupyter notebooks into standalone web applications \n",
    "\n",
    "![image](https://user-images.githubusercontent.com/591645/228173857-cbfc429c-58a9-4dc6-8054-890573078292.png)"
   ]
  },
  {
   "cell_type": "markdown",
   "metadata": {},
   "source": [
    "<br><br><br><br><br><br><br><br><br><br><br><br><br><br><br><br><br><br><br><br><br><br><br><br><br><br><br><br><br><br><br><br><br><br><br><br>"
   ]
  },
  {
   "cell_type": "markdown",
   "metadata": {},
   "source": [
    "# Services\n",
    "\n",
    "## https://nbviewer.org\n",
    "\n",
    "## https://try.jupyter.org\n",
    "\n",
    "## https://mybinder.org"
   ]
  },
  {
   "cell_type": "markdown",
   "metadata": {},
   "source": [
    "<br><br><br><br><br><br><br><br><br><br><br><br><br><br><br><br><br><br><br><br><br><br><br><br><br><br><br><br><br><br><br><br><br><br><br><br>"
   ]
  },
  {
   "cell_type": "markdown",
   "metadata": {},
   "source": [
    "# Ongoing development\n",
    "\n",
    "## 👥 Real Time Collaboration\n",
    "\n",
    "## 💡 JupyterLite\n",
    "\n",
    "## 📔 JupyterLab 4 and Notebook 7\n",
    "\n",
    "## 📘 Jupyter Book\n",
    "\n",
    "## 👩‍💻 Accessibility"
   ]
  },
  {
   "cell_type": "markdown",
   "metadata": {},
   "source": [
    "<br><br><br><br><br><br><br><br><br><br><br><br><br><br><br><br><br><br><br><br><br><br><br><br><br><br><br><br><br><br><br><br><br><br><br><br>"
   ]
  },
  {
   "cell_type": "markdown",
   "metadata": {},
   "source": [
    "<p style=\"text-align: center\">\n",
    "    <img width=\"512\" src=\"https://user-images.githubusercontent.com/591645/138829924-ea536fd4-2352-4214-8691-a80cd87cef2c.png\">\n",
    "</p>"
   ]
  },
  {
   "cell_type": "markdown",
   "metadata": {},
   "source": [
    "# How is JupyterLite different compared to normal Jupyter? 🤔"
   ]
  },
  {
   "cell_type": "code",
   "execution_count": null,
   "metadata": {},
   "outputs": [],
   "source": [
    "print('Hello World!')"
   ]
  },
  {
   "cell_type": "code",
   "execution_count": null,
   "metadata": {},
   "outputs": [],
   "source": [
    "1 + 1"
   ]
  },
  {
   "cell_type": "code",
   "execution_count": null,
   "metadata": {},
   "outputs": [],
   "source": [
    "import this"
   ]
  },
  {
   "cell_type": "code",
   "execution_count": null,
   "metadata": {},
   "outputs": [],
   "source": [
    "import sys\n",
    "print('boom', file=sys.stderr)"
   ]
  },
  {
   "cell_type": "markdown",
   "metadata": {},
   "source": [
    "<br><br><br><br><br><br><br><br><br><br><br><br><br><br><br><br><br><br><br><br><br><br><br><br><br><br><br><br><br><br><br><br><br><br><br><br>"
   ]
  },
  {
   "cell_type": "markdown",
   "metadata": {},
   "source": [
    "# Everything runs in the browser\n",
    "\n",
    "## Some parts of the Jupyter Stack are omitted\n",
    "\n",
    "- no `jupyter_client`\n",
    "- no `ZMQ`\n",
    "- no real `jupyter_server`"
   ]
  },
  {
   "cell_type": "markdown",
   "metadata": {},
   "source": [
    "<br><br><br><br><br><br><br><br><br><br><br><br><br><br><br><br><br><br><br><br><br><br><br><br><br><br><br><br><br><br><br><br><br><br><br><br>"
   ]
  },
  {
   "cell_type": "markdown",
   "metadata": {},
   "source": [
    "## Boots in seconds\n",
    "\n",
    "This presentation is deployed on GitHub Pages: https://jtpio.github.io/python-meetup-grenoble-2023\n",
    "\n",
    "<p style=\"text-align: center\">\n",
    "    <img src=\"https://user-images.githubusercontent.com/591645/120649478-18258400-c47d-11eb-80e5-185e52ff2702.gif\">\n",
    "</p>"
   ]
  },
  {
   "cell_type": "markdown",
   "metadata": {},
   "source": [
    "<br><br><br><br><br><br><br><br><br><br><br><br><br><br><br><br><br><br><br><br><br><br><br><br><br><br><br><br><br><br><br><br><br><br><br><br>"
   ]
  },
  {
   "cell_type": "markdown",
   "metadata": {},
   "source": [
    "# Lightweight Jupyter Frontend running in the browser\n",
    "\n",
    "<img src=\"https://raw.githubusercontent.com/jupyterlite/jupyterlite/main/docs/_static/badge-launch.svg\" width=512 />\n",
    "\n",
    "### ✅ no server\n",
    "\n",
    "### ✅ no command line\n",
    "\n",
    "### ✅ no need to install Python and other packages locally\n",
    "\n",
    "### ✅ no internet? works in offline mode 💾\n"
   ]
  },
  {
   "cell_type": "markdown",
   "metadata": {},
   "source": [
    "<br><br><br><br><br><br><br><br><br><br><br><br><br><br><br><br><br><br><br><br><br><br><br><br><br><br><br><br><br><br><br><br><br><br><br><br>"
   ]
  },
  {
   "cell_type": "markdown",
   "metadata": {},
   "source": [
    "# Standing on the shoulders of giants 💁‍♂️\n",
    "\n",
    "## ✳️ Built from the ground-up using JupyterLab components and extensions\n",
    "\n",
    "## ✳️ The frontend communicates to the in-browser kernels via the Jupyter Protocol\n",
    "\n",
    "![lite-ecosystem](https://user-images.githubusercontent.com/591645/162748538-e44fea00-f727-4055-b795-8f5fc5c6b133.png)"
   ]
  },
  {
   "cell_type": "markdown",
   "metadata": {},
   "source": [
    "<br><br><br><br><br><br><br><br><br><br><br><br><br><br><br><br><br><br><br><br><br><br><br><br><br><br><br><br><br><br><br><br><br><br><br><br>"
   ]
  },
  {
   "cell_type": "markdown",
   "metadata": {},
   "source": [
    "# Easy to deploy 🚀\n",
    "\n",
    "## ✳️ Documentation: https://jupyterlite.readthedocs.io/en/latest/howto/index.html\n",
    "\n",
    "## ✳️ Served via well-cacheable, static HTTP(S), locally or on most static web hosts\n",
    "\n",
    "## ✳️ Examples\n",
    "\n",
    "### - https://jupyterlite.rtfd.io/en/latest/try/lab (Read The Docs), from https://github.com/jupyterlite/jupyterlite\n",
    "### - https://jupyterlite.github.io/demo (GitHub Pages), from https://github.com/jupyterlite/demo\n",
    "\n",
    "<img width=256 src=\"https://user-images.githubusercontent.com/591645/120675034-00f29080-c495-11eb-928c-26bb94e8eb68.png\">\n",
    "\n",
    "<img width=256 src=\"https://user-images.githubusercontent.com/591645/120676545-6dba5a80-c496-11eb-9b2b-604e92c3429b.png\">\n",
    "\n",
    "<img width=256 src=\"https://user-images.githubusercontent.com/591645/120675516-6f375300-c495-11eb-819c-d6f1fb3cb0f1.png\">\n",
    "\n",
    "<img width=256 src=\"https://user-images.githubusercontent.com/591645/120676108-03a1b580-c496-11eb-8990-ed30c7861376.png\">\n",
    "\n",
    "<img width=256 src=\"https://user-images.githubusercontent.com/591645/120676313-2df37300-c496-11eb-8639-25e2fc606850.png\">\n",
    "\n",
    "And more: Netlify, nginx, Heroku..."
   ]
  },
  {
   "cell_type": "markdown",
   "metadata": {},
   "source": [
    "<br><br><br><br><br><br><br><br><br><br><br><br><br><br><br><br><br><br><br><br><br><br><br><br><br><br><br><br><br><br><br><br><br><br><br><br>"
   ]
  },
  {
   "cell_type": "markdown",
   "metadata": {},
   "source": [
    "# Create your own in a few minutes! ⏲️\n",
    "\n",
    "## The JupyterLite Demo repo: https://github.com/jupyterlite/demo\n",
    "\n",
    "## Quickstart Guide: https://jupyterlite.readthedocs.io/en/latest/quickstart/deploy.html\n",
    "\n",
    "![](https://user-images.githubusercontent.com/21197331/125816904-5768008a-77de-4cb3-8013-f3999b135c02.gif)"
   ]
  },
  {
   "cell_type": "markdown",
   "metadata": {},
   "source": [
    "<br><br><br><br><br><br><br><br><br><br><br><br><br><br><br><br><br><br><br><br><br><br><br><br><br><br><br><br><br><br><br><br><br><br><br><br>"
   ]
  },
  {
   "cell_type": "markdown",
   "metadata": {},
   "source": [
    "# Using the `jupyter-lite` CLI\n",
    "\n",
    "## Quickstart Guide: https://jupyterlite.readthedocs.io/en/latest/quickstart/standalone.html\n",
    "\n",
    "![image](https://user-images.githubusercontent.com/591645/228004537-3d683e0b-ab90-401b-bd76-e26fb3c61184.png)\n",
    "\n"
   ]
  },
  {
   "cell_type": "markdown",
   "metadata": {},
   "source": [
    "<br><br><br><br><br><br><br><br><br><br><br><br><br><br><br><br><br><br><br><br><br><br><br><br><br><br><br><br><br><br><br><br><br><br><br><br>"
   ]
  },
  {
   "cell_type": "markdown",
   "metadata": {},
   "source": [
    "# Voici 💁\n",
    "\n",
    "## Voici turns any Jupyter Notebook into a static web application \n",
    "\n",
    "## Repo: https://github.com/voila-dashboards/voici\n",
    "\n",
    "## Demo: https://github.com/voila-dashboards/voici-demo\n",
    "\n",
    "![image](https://user-images.githubusercontent.com/591645/228180734-9886d4b1-c1d4-4e05-9508-a9496109d989.png)"
   ]
  },
  {
   "cell_type": "markdown",
   "metadata": {},
   "source": [
    "<br><br><br><br><br><br><br><br><br><br><br><br><br><br><br><br><br><br><br><br><br><br><br><br><br><br><br><br><br><br><br><br><br><br><br><br>"
   ]
  },
  {
   "cell_type": "markdown",
   "metadata": {},
   "source": [
    "# Jupyter Everywhere 🌐\n",
    "\n",
    "![jupyter-everywhere](https://user-images.githubusercontent.com/591645/162568867-343ecd3b-1344-4353-a885-73a78f79fd13.jpg)"
   ]
  },
  {
   "cell_type": "markdown",
   "metadata": {},
   "source": [
    "<br><br><br><br><br><br><br><br><br><br><br><br><br><br><br><br><br><br><br><br><br><br><br><br><br><br><br><br><br><br><br><br><br><br><br><br>"
   ]
  },
  {
   "cell_type": "markdown",
   "metadata": {},
   "source": [
    "## Embed a live Python console on your website 🚀\n",
    "\n",
    "Blog post: https://blog.jupyter.org/jupyter-everywhere-f8151c2cc6e8\n",
    "\n",
    "### The REPL Application\n",
    "\n",
    "![image](https://user-images.githubusercontent.com/591645/162570397-417cd87f-cc82-44aa-bc84-feff9cb4c530.png)\n",
    "\n",
    "### Embed with:\n",
    "\n",
    "```html\n",
    "<iframe\n",
    "  src=\"https://jupyterlite.github.io/demo/repl/index.html?kernel=python&toolbar=1\"\n",
    "  width=\"100%\"\n",
    "  height=\"500px\"\n",
    ">\n",
    "</iframe>\n",
    "```\n",
    "\n",
    "### And 🎉\n",
    "\n",
    "![image](https://user-images.githubusercontent.com/591645/162619390-ecab994a-3f39-4e26-af78-ca2569aee9b2.png)\n",
    "\n",
    "### Example\n",
    "\n",
    "https://jtp.io/2022/02/22/jupyterlite-repl.html"
   ]
  },
  {
   "cell_type": "markdown",
   "metadata": {},
   "source": [
    "<br><br><br><br><br><br><br><br><br><br><br><br><br><br><br><br><br><br><br><br><br><br><br><br><br><br><br><br><br><br><br><br><br><br><br><br>"
   ]
  },
  {
   "cell_type": "markdown",
   "metadata": {},
   "source": [
    "### [numpy.org](https://numpy.org)\n",
    "\n",
    "![image](https://user-images.githubusercontent.com/591645/162569443-40e841ad-f42d-44eb-966f-c1c810c1ab10.png)\n",
    "\n",
    "## [try.jupyter.org](https://try.jupyter.org)\n",
    "\n",
    "![image](https://user-images.githubusercontent.com/591645/162569510-56287b4b-acf2-47f9-90af-7b0605c5b112.png)\n",
    "\n",
    "#### ✳️ Help reduce the load on [mybinder.org](https://mybinder.org)\n",
    "#### ✳️ Huge savings: trade compute resources (1 GB / 1 CPU) for static assets\n",
    "\n",
    "![image](https://user-images.githubusercontent.com/591645/162619537-b3fce1ee-9929-4b03-aa1f-acd8e0c2eb72.png)\n",
    "\n",
    "### [sympy.org](https://sympy.org)\n",
    "\n",
    "![image](https://user-images.githubusercontent.com/591645/167361691-da1252e7-17f4-4bbf-8eee-ba3bfaff8c2e.png)\n",
    "\n",
    "## [jupyterlite-sphinx](https://jupyterlite-sphinx.readthedocs.io/en/latest/)\n",
    "\n",
    "### https://ipycanvas.readthedocs.io/en/master/\n",
    "\n",
    "![image](https://user-images.githubusercontent.com/591645/162572578-a3ee770b-d622-4e18-a7c0-71d98627309f.png)"
   ]
  },
  {
   "cell_type": "markdown",
   "metadata": {},
   "source": [
    "<br><br><br><br><br><br><br><br><br><br><br><br><br><br><br><br><br><br><br><br><br><br><br><br><br><br><br><br><br><br><br><br><br><br><br><br>"
   ]
  },
  {
   "cell_type": "markdown",
   "metadata": {},
   "source": [
    "# Merci !"
   ]
  },
  {
   "cell_type": "markdown",
   "metadata": {},
   "source": [
    "<br><br><br><br><br><br><br><br><br><br><br><br><br><br><br><br><br><br><br><br><br><br><br><br><br><br><br><br><br><br><br><br><br><br><br><br>"
   ]
  }
 ],
 "metadata": {
  "interpreter": {
   "hash": "b297c9f053451c40d9c75031adac3a86ec5d2b3afb3b47bf0229dc17014684ea"
  },
  "kernelspec": {
   "display_name": "Python 3 (ipykernel)",
   "language": "python",
   "name": "python3"
  },
  "language_info": {
   "codemirror_mode": {
    "name": "ipython",
    "version": 3
   },
   "file_extension": ".py",
   "mimetype": "text/x-python",
   "name": "python",
   "nbconvert_exporter": "python",
   "pygments_lexer": "ipython3",
   "version": "3.11.0"
  },
  "toc-showcode": false
 },
 "nbformat": 4,
 "nbformat_minor": 4
}
