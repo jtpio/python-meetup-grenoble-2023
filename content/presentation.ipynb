{
 "cells": [
  {
   "cell_type": "markdown",
   "metadata": {},
   "source": [
    "<br><br><br><br><br><br><br><br><br><br><br><br><br><br><br><br><br><br><br><br><br><br><br><br><br><br><br><br><br><br><br><br><br><br><br><br>"
   ]
  },
  {
   "cell_type": "markdown",
   "metadata": {
    "tags": []
   },
   "source": [
    "<p style=\"text-align: center\">\n",
    "    <img width=\"440\" src=\"https://jupyter.org/assets/homepage/main-logo.svg\">\n",
    "    <img width=\"512\" src=\"https://user-images.githubusercontent.com/591645/138829924-ea536fd4-2352-4214-8691-a80cd87cef2c.png\">\n",
    "</p>\n",
    "<h2 style=\"text-align: center\">Créer des sites web Jupyter interactifs avec JupyterLite 💡 🐍</h2>\n",
    "<h2 style=\"text-align: center\">Python Meetup Grenoble - 2023-03-28</h2>\n",
    "\n",
    "<h4 style=\"text-align: center\">Jeremy Tuloup</h4>"
   ]
  },
  {
   "cell_type": "markdown",
   "metadata": {},
   "source": [
    "<br><br><br><br><br><br><br><br><br><br><br><br><br><br><br><br><br><br><br><br><br><br><br><br><br><br><br><br><br><br><br><br><br><br><br><br>"
   ]
  },
  {
   "cell_type": "markdown",
   "metadata": {},
   "source": [
    "<p style=\"text-align: center;\">\n",
    "    <img src=\"https://quantstack.net/img/logo.svg\"/>\n",
    "</p>\n",
    "    \n",
    "![image](https://user-images.githubusercontent.com/591645/162733593-43aaf6ae-df8d-465e-9986-bacbe89fee1c.png)"
   ]
  },
  {
   "cell_type": "markdown",
   "metadata": {},
   "source": [
    "<br><br><br><br><br><br><br><br><br><br><br><br><br><br><br><br><br><br><br><br><br><br><br><br><br><br><br><br><br><br><br><br><br><br><br><br>"
   ]
  },
  {
   "cell_type": "markdown",
   "metadata": {},
   "source": [
    "# Interactive Computing\n",
    "\n",
    "- Compose\n",
    "- Submit\n",
    "- Run\n",
    "- Output\n",
    "- View\n",
    "- Repeat"
   ]
  },
  {
   "cell_type": "markdown",
   "metadata": {},
   "source": [
    "# IPython: the Terminal as a UI\n",
    "\n",
    "- The terminal is a user interface!\n",
    "- Challenges:\n",
    "  - **No narrative**\n",
    "  - **No memory**\n",
    "  - **No reproducibility and communication**\n",
    "\n",
    "## REPL: Read Eval Print Loop"
   ]
  },
  {
   "cell_type": "markdown",
   "metadata": {},
   "source": [
    "# Why is the Jupyter Notebook useful?\n",
    "\n",
    "- Maintain full interactive computing workflow\n",
    "- Adds:\n",
    "  - **narrative**\n",
    "  - **memory**\n",
    "  - **repoducibility**\n",
    "  - **communication**"
   ]
  },
  {
   "cell_type": "markdown",
   "metadata": {},
   "source": [
    "# IPython\n",
    "\n",
    "TODO: add screenshot\n"
   ]
  },
  {
   "cell_type": "markdown",
   "metadata": {},
   "source": [
    "# Jupyter Notebook\n",
    "\n",
    "TODO: add screenshot\n",
    "\n",
    "- Millions of users\n",
    "- More than 100 kernels available\n",
    "- Millions of notebooks on GitHub"
   ]
  },
  {
   "cell_type": "markdown",
   "metadata": {},
   "source": [
    "# Kernels\n",
    "\n",
    "![image](https://user-images.githubusercontent.com/591645/227998011-2eb736f1-4f93-4f73-8dd2-f6f69fec4685.png)"
   ]
  },
  {
   "cell_type": "markdown",
   "metadata": {},
   "source": [
    "# Navigating the Jupyter Landscape\n",
    "\n",
    "https://docs.jupyter.org/en/latest/projects/architecture/content-architecture.html#projects-overview\n",
    "\n",
    "![overview](https://user-images.githubusercontent.com/591645/227993711-a598b63e-3c78-4d41-a6f3-fad7f9717eb6.png)"
   ]
  },
  {
   "cell_type": "markdown",
   "metadata": {},
   "source": [
    "# The Jupyter Protocol\n",
    "\n",
    "## Messaging in Jupyter: https://jupyter-client.readthedocs.io/en/stable/messaging.html\n",
    "\n",
    "TODO: check kernel spy extension"
   ]
  },
  {
   "cell_type": "markdown",
   "metadata": {},
   "source": [
    "# The Jupyter Notebook Format\n",
    "\n",
    "https://nbformat.readthedocs.io/en/latest/\n",
    "\n",
    "TODO: screenshot of JSON notebook\n",
    "\n",
    "TODO: links to proposals for markdown representations"
   ]
  },
  {
   "cell_type": "markdown",
   "metadata": {},
   "source": [
    "# Reusable libraries\n",
    "\n"
   ]
  },
  {
   "cell_type": "markdown",
   "metadata": {},
   "source": [
    "# Jupyter Frontends\n",
    "\n",
    "- You can build your own Jupyter Frontend\n",
    "- The Jupyter Protocol and Notebook Format still **at the core**\n",
    "- **Interoperability**, **Standards**\n",
    "\n",
    "## Open Source frontends\n",
    "\n",
    "- JupyterLab\n",
    "- Jupyter Notebook (version 7 built with JupyterLab components)\n",
    "- nteract\n",
    "- VS Code\n",
    "\n",
    "## Proprietary\n",
    "\n",
    "- Jetbrains Datalore\n",
    "- Google Colab"
   ]
  },
  {
   "cell_type": "markdown",
   "metadata": {},
   "source": [
    "# Jupyter Widgets"
   ]
  },
  {
   "cell_type": "code",
   "execution_count": null,
   "metadata": {},
   "outputs": [],
   "source": [
    "from ipywidgets import IntSlider\n",
    "\n",
    "slider = IntSlider()\n",
    "slider"
   ]
  },
  {
   "cell_type": "code",
   "execution_count": null,
   "metadata": {},
   "outputs": [],
   "source": [
    "slider"
   ]
  },
  {
   "cell_type": "code",
   "execution_count": null,
   "metadata": {},
   "outputs": [],
   "source": [
    "slider.value"
   ]
  },
  {
   "cell_type": "code",
   "execution_count": null,
   "metadata": {},
   "outputs": [],
   "source": [
    "from ipywidgets import IntText, link\n",
    "text = IntText()"
   ]
  },
  {
   "cell_type": "code",
   "execution_count": null,
   "metadata": {},
   "outputs": [],
   "source": [
    "text"
   ]
  },
  {
   "cell_type": "code",
   "execution_count": null,
   "metadata": {},
   "outputs": [],
   "source": [
    "link((slider, 'value'), (text, 'value'));"
   ]
  },
  {
   "cell_type": "code",
   "execution_count": null,
   "metadata": {},
   "outputs": [],
   "source": [
    "from bqplot import *\n",
    "\n",
    "import numpy as np\n",
    "import pandas as pd\n",
    "\n",
    "np.random.seed(0)\n",
    "\n",
    "n = 100\n",
    "\n",
    "x = list(range(n))\n",
    "y = np.cumsum(np.random.randn(n)) + 100.\n",
    "\n",
    "sc_x = LinearScale()\n",
    "sc_y = LinearScale()\n",
    "\n",
    "lines = Lines(\n",
    "    x=x, y=y,\n",
    "    scales={'x': sc_x, 'y': sc_y}\n",
    ")\n",
    "ax_x = Axis(scale=sc_x, label='Index')\n",
    "ax_y = Axis(scale=sc_y, orientation='vertical', label='lines')\n",
    "\n",
    "Figure(marks=[lines], axes=[ax_x, ax_y], title='Lines')\n"
   ]
  },
  {
   "cell_type": "code",
   "execution_count": null,
   "metadata": {},
   "outputs": [],
   "source": [
    "lines.colors = ['green']"
   ]
  },
  {
   "cell_type": "code",
   "execution_count": null,
   "metadata": {},
   "outputs": [],
   "source": [
    "lines.fill = 'bottom'"
   ]
  },
  {
   "cell_type": "code",
   "execution_count": null,
   "metadata": {},
   "outputs": [],
   "source": [
    "lines.marker = 'circle'"
   ]
  },
  {
   "cell_type": "code",
   "execution_count": null,
   "metadata": {},
   "outputs": [],
   "source": [
    "n = 100\n",
    "\n",
    "x = list(range(n))\n",
    "y = np.cumsum(np.random.randn(n))\n",
    "\n",
    "sc_x = LinearScale()\n",
    "sc_y = LinearScale()\n",
    "\n",
    "bars = Bars(\n",
    "    x=x, y=y,\n",
    "    scales={'x': sc_x, 'y': sc_y}\n",
    ")\n",
    "ax_x = Axis(scale=sc_x, label='Index')\n",
    "ax_y = Axis(scale=sc_y, orientation='vertical', label='bars')\n",
    "\n",
    "Figure(marks=[bars], axes=[ax_x, ax_y], title='Bars', animation_duration=1000)"
   ]
  },
  {
   "cell_type": "code",
   "execution_count": null,
   "metadata": {},
   "outputs": [],
   "source": [
    "bars.y = np.cumsum(np.random.randn(n))"
   ]
  },
  {
   "cell_type": "markdown",
   "metadata": {},
   "source": [
    "# JupyterHub\n",
    "\n",
    "- Multi-users Jupyter\n",
    "- Each user has a server"
   ]
  },
  {
   "cell_type": "markdown",
   "metadata": {},
   "source": [
    "# Services\n",
    "\n",
    "## nbviewer: https://nbviewer.org/\n",
    "\n",
    "## try.jupyter.org: https://try.jupyter.org\n",
    "\n",
    "## mybinder.org: https://mybinder.org"
   ]
  },
  {
   "cell_type": "markdown",
   "metadata": {},
   "source": [
    "<br><br><br><br><br><br><br><br><br><br><br><br><br><br><br><br><br><br><br><br><br><br><br><br><br><br><br><br><br><br><br><br><br><br><br><br>"
   ]
  },
  {
   "cell_type": "markdown",
   "metadata": {},
   "source": [
    "<p style=\"text-align: center\">\n",
    "    <img width=\"512\" src=\"https://user-images.githubusercontent.com/591645/138829924-ea536fd4-2352-4214-8691-a80cd87cef2c.png\">\n",
    "</p>"
   ]
  },
  {
   "cell_type": "markdown",
   "metadata": {},
   "source": [
    "# How is JupyterLite different compared to normal Jupyter? 🤔"
   ]
  },
  {
   "cell_type": "code",
   "execution_count": null,
   "metadata": {},
   "outputs": [],
   "source": [
    "print('Hello World!')"
   ]
  },
  {
   "cell_type": "code",
   "execution_count": null,
   "metadata": {},
   "outputs": [],
   "source": [
    "1 + 1"
   ]
  },
  {
   "cell_type": "code",
   "execution_count": null,
   "metadata": {},
   "outputs": [],
   "source": [
    "import this"
   ]
  },
  {
   "cell_type": "code",
   "execution_count": null,
   "metadata": {},
   "outputs": [],
   "source": [
    "import sys\n",
    "print('boom', file=sys.stderr)"
   ]
  },
  {
   "cell_type": "markdown",
   "metadata": {},
   "source": [
    "<br><br><br><br><br><br><br><br><br><br><br><br><br><br><br><br><br><br><br><br><br><br><br><br><br><br><br><br><br><br><br><br><br><br><br><br>"
   ]
  },
  {
   "cell_type": "markdown",
   "metadata": {},
   "source": [
    "## Boots in seconds\n",
    "\n",
    "This presentation is deployed on GitHub Pages: https://jtpio.github.io/python-meetup-grenoble-2023\n",
    "\n",
    "<p style=\"text-align: center\">\n",
    "    <img src=\"https://user-images.githubusercontent.com/591645/120649478-18258400-c47d-11eb-80e5-185e52ff2702.gif\">\n",
    "</p>"
   ]
  },
  {
   "cell_type": "markdown",
   "metadata": {},
   "source": [
    "<br><br><br><br><br><br><br><br><br><br><br><br><br><br><br><br><br><br><br><br><br><br><br><br><br><br><br><br><br><br><br><br><br><br><br><br>"
   ]
  },
  {
   "cell_type": "markdown",
   "metadata": {},
   "source": [
    "<br><br><br><br><br><br><br><br><br><br><br><br><br><br><br><br><br><br><br><br><br><br><br><br><br><br><br><br><br><br><br><br><br><br><br><br>"
   ]
  },
  {
   "cell_type": "markdown",
   "metadata": {},
   "source": [
    "# Lightweight Jupyter Frontend running in the browser\n",
    "\n",
    "<img src=\"https://raw.githubusercontent.com/jupyterlite/jupyterlite/main/docs/_static/badge-launch.svg\" width=512 />\n",
    "\n",
    "### ✅ no server\n",
    "\n",
    "### ✅ no command line\n",
    "\n",
    "### ✅ no need to install Python and other packages locally\n",
    "\n",
    "### ✅ no internet? works in offline mode 💾\n"
   ]
  },
  {
   "cell_type": "markdown",
   "metadata": {},
   "source": [
    "<br><br><br><br><br><br><br><br><br><br><br><br><br><br><br><br><br><br><br><br><br><br><br><br><br><br><br><br><br><br><br><br><br><br><br><br>"
   ]
  },
  {
   "cell_type": "markdown",
   "metadata": {},
   "source": [
    "# Easy to deploy\n",
    "\n",
    "### Documentation: https://jupyterlite.readthedocs.io/en/latest/deploying.html\n",
    "\n",
    "### Served via well-cacheable, static HTTP(S), locally or on most static web hosts\n",
    "\n",
    "## Examples\n",
    "\n",
    "### - https://jupyterlite.rtfd.io/en/latest/try/lab (Read The Docs), from https://github.com/jupyterlite/jupyterlite\n",
    "### - https://jupyterlite.github.io/demo (GitHub Pages), from https://github.com/jupyterlite/demo\n",
    "\n",
    "<img width=256 src=\"https://user-images.githubusercontent.com/591645/120675034-00f29080-c495-11eb-928c-26bb94e8eb68.png\">\n",
    "\n",
    "<img width=256 src=\"https://user-images.githubusercontent.com/591645/120676545-6dba5a80-c496-11eb-9b2b-604e92c3429b.png\">\n",
    "\n",
    "<img width=256 src=\"https://user-images.githubusercontent.com/591645/120675516-6f375300-c495-11eb-819c-d6f1fb3cb0f1.png\">\n",
    "\n",
    "<img width=256 src=\"https://user-images.githubusercontent.com/591645/120676108-03a1b580-c496-11eb-8990-ed30c7861376.png\">\n",
    "\n",
    "<img width=256 src=\"https://user-images.githubusercontent.com/591645/120676313-2df37300-c496-11eb-8639-25e2fc606850.png\">\n",
    "\n",
    "And more: Netlify, nginx, Heroku..."
   ]
  },
  {
   "cell_type": "markdown",
   "metadata": {},
   "source": [
    "<br><br><br><br><br><br><br><br><br><br><br><br><br><br><br><br><br><br><br><br><br><br><br><br><br><br><br><br><br><br><br><br><br><br><br><br>"
   ]
  },
  {
   "cell_type": "markdown",
   "metadata": {},
   "source": [
    "<p style=\"text-align: center\">\n",
    "    <img src=\"https://user-images.githubusercontent.com/591645/162559340-bf7e738a-7195-419e-9ae1-e10d9ea6783e.png\" width=\"40%\">\n",
    "</p>"
   ]
  },
  {
   "cell_type": "markdown",
   "metadata": {},
   "source": [
    "<br><br><br><br><br><br><br><br><br><br><br><br><br><br><br><br><br><br><br><br><br><br><br><br><br><br><br><br><br><br><br><br><br><br><br><br>"
   ]
  },
  {
   "cell_type": "markdown",
   "metadata": {},
   "source": [
    "# Standing on the shoulders of giants 💁‍♂️\n",
    "\n",
    "## ✳️ Built from the ground-up using JupyterLab components and extensions\n",
    "\n",
    "## ✳️ The frontend communicates to the in-browser kernels via the Jupyter Protocol\n",
    "\n",
    "![lite-ecosystem](https://user-images.githubusercontent.com/591645/162748538-e44fea00-f727-4055-b795-8f5fc5c6b133.png)"
   ]
  },
  {
   "cell_type": "markdown",
   "metadata": {},
   "source": [
    "<br><br><br><br><br><br><br><br><br><br><br><br><br><br><br><br><br><br><br><br><br><br><br><br><br><br><br><br><br><br><br><br><br><br><br><br>"
   ]
  },
  {
   "cell_type": "markdown",
   "metadata": {},
   "source": [
    "# JupyterLite Kernels\n",
    "\n",
    "| Language   | Name              |                                                                                                                                                                |\n",
    "|------------|-------------------|----------------------------------------------------------------------------------------------------------------------------------------------------------------|\n",
    "| Python     | Pyodide           | ![](https://jupyterlite.github.io/demo/kernelspecs/python.png)                                                                                                 |\n",
    "| Python     | Xeus Python       | ![](https://jupyterlite.github.io/demo/kernelspecs/python.png)                                                                                                 |\n",
    "| SQL        | xeus-sqlite       | ![](https://jupyterlite.github.io/demo/extensions/@jupyterlite/xeus-sqlite-kernel/static/1d294d21c80c4bf4e239740688a0c5b9d5b34ce1d8bc7749901c022b22be74fb.png) |\n",
    "| Lua        | xeus-lua          | ![](https://jupyterlite.github.io/demo/extensions/@jupyterlite/xeus-lua-kernel/static/ef04946322537d832f3fad9e57f58276.png)                                    |\n",
    "| JavaScript | javascript-kernel | ![](https://jupyterlite.github.io/demo/kernelspecs/javascript.svg)                                                                                             |\n",
    "| p5.js      | p5-kernel         | ![](https://jupyterlite.github.io/demo/extensions/@jupyterlite/p5-kernel-extension/static/49bd0f07faea7cc6679aff248db41a5a.png)                                |"
   ]
  },
  {
   "cell_type": "markdown",
   "metadata": {},
   "source": [
    "<br><br><br><br><br><br><br><br><br><br><br><br><br><br><br><br><br><br><br><br><br><br><br><br><br><br><br><br><br><br><br><br><br><br><br><br>"
   ]
  },
  {
   "cell_type": "markdown",
   "metadata": {},
   "source": [
    "# Create your own in a few minutes! ⏲️\n",
    "\n",
    "## The JupyterLite Demo repo: https://github.com/jupyterlite/demo\n",
    "\n",
    "## Quickstart Guide: https://jupyterlite.readthedocs.io/en/latest/quickstart/deploy.html\n",
    "\n",
    "![](https://user-images.githubusercontent.com/21197331/125816904-5768008a-77de-4cb3-8013-f3999b135c02.gif)"
   ]
  },
  {
   "cell_type": "markdown",
   "metadata": {},
   "source": [
    "# Using the `jupyter-lite` CLI\n",
    "\n",
    "## Quickstart Guide: https://jupyterlite.readthedocs.io/en/latest/quickstart/standalone.html\n",
    "\n",
    "![image](https://user-images.githubusercontent.com/591645/228004537-3d683e0b-ab90-401b-bd76-e26fb3c61184.png)\n",
    "\n"
   ]
  },
  {
   "cell_type": "markdown",
   "metadata": {},
   "source": [
    "<br><br><br><br><br><br><br><br><br><br><br><br><br><br><br><br><br><br><br><br><br><br><br><br><br><br><br><br><br><br><br><br><br><br><br><br>"
   ]
  },
  {
   "cell_type": "markdown",
   "metadata": {},
   "source": [
    "# Jupyter Everywhere 🌐\n",
    "\n",
    "![jupyter-everywhere](https://user-images.githubusercontent.com/591645/162568867-343ecd3b-1344-4353-a885-73a78f79fd13.jpg)"
   ]
  },
  {
   "cell_type": "markdown",
   "metadata": {},
   "source": [
    "<br><br><br><br><br><br><br><br><br><br><br><br><br><br><br><br><br><br><br><br><br><br><br><br><br><br><br><br><br><br><br><br><br><br><br><br>"
   ]
  },
  {
   "cell_type": "markdown",
   "metadata": {},
   "source": [
    "## Embed a live Python console on your website 🚀\n",
    "\n",
    "Blog post: https://blog.jupyter.org/jupyter-everywhere-f8151c2cc6e8\n",
    "\n",
    "### The REPL Application\n",
    "\n",
    "![image](https://user-images.githubusercontent.com/591645/162570397-417cd87f-cc82-44aa-bc84-feff9cb4c530.png)\n",
    "\n",
    "### Embed with:\n",
    "\n",
    "```html\n",
    "<iframe\n",
    "  src=\"https://jupyterlite.github.io/demo/repl/index.html?kernel=python&toolbar=1\"\n",
    "  width=\"100%\"\n",
    "  height=\"500px\"\n",
    ">\n",
    "</iframe>\n",
    "```\n",
    "\n",
    "### And 🎉\n",
    "\n",
    "![image](https://user-images.githubusercontent.com/591645/162619390-ecab994a-3f39-4e26-af78-ca2569aee9b2.png)\n",
    "\n",
    "### Example\n",
    "\n",
    "https://jtp.io/2022/02/22/jupyterlite-repl.html"
   ]
  },
  {
   "cell_type": "markdown",
   "metadata": {},
   "source": [
    "<br><br><br><br><br><br><br><br><br><br><br><br><br><br><br><br><br><br><br><br><br><br><br><br><br><br><br><br><br><br><br><br><br><br><br><br>"
   ]
  },
  {
   "cell_type": "markdown",
   "metadata": {},
   "source": [
    "### [numpy.org](https://numpy.org)\n",
    "\n",
    "![image](https://user-images.githubusercontent.com/591645/162569443-40e841ad-f42d-44eb-966f-c1c810c1ab10.png)\n",
    "\n",
    "## [try.jupyter.org](https://try.jupyter.org)\n",
    "\n",
    "![image](https://user-images.githubusercontent.com/591645/162569510-56287b4b-acf2-47f9-90af-7b0605c5b112.png)\n",
    "\n",
    "#### ✳️ Help reduce the load on [mybinder.org](https://mybinder.org)\n",
    "#### ✳️ Huge savings: trade compute resources (1 GB / 1 CPU) for static assets\n",
    "\n",
    "![image](https://user-images.githubusercontent.com/591645/162619537-b3fce1ee-9929-4b03-aa1f-acd8e0c2eb72.png)\n",
    "\n",
    "### [sympy.org](https://sympy.org)\n",
    "\n",
    "![image](https://user-images.githubusercontent.com/591645/167361691-da1252e7-17f4-4bbf-8eee-ba3bfaff8c2e.png)\n",
    "\n",
    "## [jupyterlite-sphinx](https://jupyterlite-sphinx.readthedocs.io/en/latest/)\n",
    "\n",
    "### https://ipycanvas.readthedocs.io/en/master/\n",
    "\n",
    "![image](https://user-images.githubusercontent.com/591645/162572578-a3ee770b-d622-4e18-a7c0-71d98627309f.png)"
   ]
  },
  {
   "cell_type": "markdown",
   "metadata": {},
   "source": [
    "<br><br><br><br><br><br><br><br><br><br><br><br><br><br><br><br><br><br><br><br><br><br><br><br><br><br><br><br><br><br><br><br><br><br><br><br>"
   ]
  },
  {
   "cell_type": "markdown",
   "metadata": {},
   "source": [
    "<br><br><br><br><br><br><br><br><br><br><br><br><br><br><br><br><br><br><br><br><br><br><br><br><br><br><br><br><br><br><br><br><br><br><br><br>"
   ]
  },
  {
   "cell_type": "code",
   "execution_count": null,
   "metadata": {},
   "outputs": [],
   "source": [
    "from IPython.display import IFrame\n",
    "IFrame('https://emscripten-forge.github.io/sample-python-repl/', 800, 900)"
   ]
  },
  {
   "cell_type": "markdown",
   "metadata": {},
   "source": [
    "<div class=\"alert alert-block alert-info\">\n",
    "<b>Github Template Repository:</b> \n",
    "    https://emscripten-forge.github.io/sample-python-repl/\n",
    "</div>\n",
    "\n",
    "</div>\n",
    "<div class=\"alert alert-block alert-warning\">\n",
    "<b>Try it out:</b> \n",
    "<a href=https://derthorsten.github.io/pyb2d-wasm-demo/#>derthorsten.github.io/pyb2d-wasm-demo/</a>\n",
    "</div>"
   ]
  },
  {
   "cell_type": "markdown",
   "metadata": {},
   "source": [
    "<br><br><br><br><br><br><br><br><br><br><br><br><br><br><br><br><br><br><br><br><br><br><br><br><br><br><br><br><br><br><br><br><br><br><br><br>"
   ]
  },
  {
   "cell_type": "markdown",
   "metadata": {},
   "source": [
    "<div class=\"alert alert-block alert-info\">\n",
    "<b>Github Repository:</b> \n",
    "    https://github.com/DerThorsten/pyb2d-wasm-demo/\n",
    "</div>\n",
    "\n",
    "</div>\n",
    "<div class=\"alert alert-block alert-warning\">\n",
    "<b>Try it out:</b> \n",
    "<a href=https://derthorsten.github.io/pyb2d-wasm-demo/#>derthorsten.github.io/pyb2d-wasm-demo/#</a>\n",
    "</div>"
   ]
  },
  {
   "cell_type": "code",
   "execution_count": null,
   "metadata": {},
   "outputs": [],
   "source": [
    "## Demo\n",
    "from IPython.display import IFrame\n",
    "IFrame('https://derthorsten.github.io/pyb2d-wasm-demo/#', 800, 600)"
   ]
  },
  {
   "cell_type": "markdown",
   "metadata": {},
   "source": [
    "<br><br><br><br><br><br><br><br><br><br><br><br><br><br><br><br><br><br><br><br><br><br><br><br><br><br><br><br><br><br><br><br><br><br><br><br>"
   ]
  }
 ],
 "metadata": {
  "interpreter": {
   "hash": "b297c9f053451c40d9c75031adac3a86ec5d2b3afb3b47bf0229dc17014684ea"
  },
  "kernelspec": {
   "display_name": "Python 3 (ipykernel)",
   "language": "python",
   "name": "python3"
  },
  "language_info": {
   "codemirror_mode": {
    "name": "ipython",
    "version": 3
   },
   "file_extension": ".py",
   "mimetype": "text/x-python",
   "name": "python",
   "nbconvert_exporter": "python",
   "pygments_lexer": "ipython3",
   "version": "3.11.0"
  },
  "toc-showcode": false
 },
 "nbformat": 4,
 "nbformat_minor": 4
}
